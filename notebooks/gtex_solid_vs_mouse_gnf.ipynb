{
 "cells": [
  {
   "cell_type": "code",
   "execution_count": 1,
   "metadata": {
    "collapsed": false
   },
   "outputs": [],
   "source": [
    "%load_ext autoreload\n",
    "%autoreload 1\n",
    "%aimport pygenesig.file_formats\n",
    "%aimport pygenesig.visualization\n",
    "\n",
    "from pygenesig.file_formats import *\n",
    "from pygenesig.bioqc import BioQCSignatureTester\n",
    "from pygenesig.tools import *\n",
    "from pygenesig.visualization import * \n",
    "\n",
    "from pylab import * \n",
    "%matplotlib inline\n",
    "%config InlineBackend.figure_format = 'png'"
   ]
  },
  {
   "cell_type": "markdown",
   "metadata": {},
   "source": [
    "# Run GTEx v6 signatures on mouseGNF samples"
   ]
  },
  {
   "cell_type": "code",
   "execution_count": 2,
   "metadata": {
    "collapsed": false
   },
   "outputs": [],
   "source": [
    "gtex_sig = load_gmt(\"../results/gtex_v6_solid_gini_0.8_1/signatures.gmt\")"
   ]
  },
  {
   "cell_type": "code",
   "execution_count": 3,
   "metadata": {
    "collapsed": false
   },
   "outputs": [
    {
     "name": "stdout",
     "output_type": "stream",
     "text": [
      "Pancreas\n",
      "Liver\n",
      "Blood\n",
      "Muscle_Skeletal\n",
      "Testis\n",
      "Kidney\n",
      "Brain\n",
      "Skin\n",
      "Uterus\n",
      "Ovary\n",
      "Adrenal_Gland\n",
      "Heart\n"
     ]
    }
   ],
   "source": [
    "for l in gtex_sig:\n",
    "    print(l)"
   ]
  },
  {
   "cell_type": "markdown",
   "metadata": {},
   "source": [
    "## load mouseGNF data"
   ]
  },
  {
   "cell_type": "code",
   "execution_count": 4,
   "metadata": {
    "collapsed": false
   },
   "outputs": [],
   "source": [
    "m_expr = read_expr(\"../data_processed/mouseGNF/exprs.npy\")\n",
    "m_rosetta_inv = read_rosetta(\"../data_processed/mouseGNF/rosetta.csv\", inverse=True)\n",
    "m_target = read_target(\"../data_processed/mouseGNF/target.csv\")"
   ]
  },
  {
   "cell_type": "code",
   "execution_count": 5,
   "metadata": {
    "collapsed": false
   },
   "outputs": [
    {
     "data": {
      "text/plain": [
       "((15851, 160), (160,))"
      ]
     },
     "execution_count": 5,
     "metadata": {},
     "output_type": "execute_result"
    }
   ],
   "source": [
    "m_expr.shape, m_target.shape"
   ]
  },
  {
   "cell_type": "markdown",
   "metadata": {},
   "source": [
    "### Translate the signature names from mouseGNF \n",
    "For a better overview in the heatmap, we map the names from the mouseGNF dataset to the equivalent names\n",
    "in the gtex signatures. This was done manually in an excel sheet.\n",
    "* Tissue names are mapped to an equivalent name\n",
    "* Tissues/Cell types which do not appear in the GTEx signatures are excluded. "
   ]
  },
  {
   "cell_type": "code",
   "execution_count": 6,
   "metadata": {
    "collapsed": false
   },
   "outputs": [],
   "source": [
    "m_target_map = pd.read_csv(\"../manual_annotation/mouseGNF_map_tissues.csv\", sep=\";\", header=None)"
   ]
  },
  {
   "cell_type": "code",
   "execution_count": 7,
   "metadata": {
    "collapsed": false
   },
   "outputs": [],
   "source": [
    "target_dict = dict(zip(m_target_map[0], m_target_map[1]))"
   ]
  },
  {
   "cell_type": "code",
   "execution_count": 8,
   "metadata": {
    "collapsed": true
   },
   "outputs": [],
   "source": [
    "m_target_new = pd.Series([target_dict[t] for t in m_target])"
   ]
  },
  {
   "cell_type": "code",
   "execution_count": 9,
   "metadata": {
    "collapsed": false
   },
   "outputs": [],
   "source": [
    "m_expr_new = m_expr[:, ~m_target_new.isnull().values]\n",
    "m_target_new = m_target_new[~m_target_new.isnull()].values"
   ]
  },
  {
   "cell_type": "code",
   "execution_count": 10,
   "metadata": {
    "collapsed": false
   },
   "outputs": [
    {
     "data": {
      "text/plain": [
       "((15851, 60), (60,))"
      ]
     },
     "execution_count": 10,
     "metadata": {},
     "output_type": "execute_result"
    }
   ],
   "source": [
    "m_expr_new.shape, m_target_new.shape"
   ]
  },
  {
   "cell_type": "markdown",
   "metadata": {},
   "source": [
    "### Translate signatures to index of gene expression matrix\n",
    "We need to transform the gene symbols in the gtex-signatures to\n",
    "the indices of the gene expression matrix of mouseGNF"
   ]
  },
  {
   "cell_type": "code",
   "execution_count": 11,
   "metadata": {
    "collapsed": false
   },
   "outputs": [],
   "source": [
    "gtex_sig_ind = translate_signatures(gtex_sig, m_rosetta_inv, ignore_missing=True)"
   ]
  },
  {
   "cell_type": "markdown",
   "metadata": {},
   "source": [
    "## run BioQC"
   ]
  },
  {
   "cell_type": "code",
   "execution_count": 12,
   "metadata": {
    "collapsed": false,
    "scrolled": false
   },
   "outputs": [],
   "source": [
    "st = BioQCSignatureTester(m_expr_new, m_target_new)"
   ]
  },
  {
   "cell_type": "code",
   "execution_count": 13,
   "metadata": {
    "collapsed": false
   },
   "outputs": [],
   "source": [
    "scores = st.score_signatures(gtex_sig_ind)"
   ]
  },
  {
   "cell_type": "markdown",
   "metadata": {},
   "source": [
    "### Visualize the score matrix\n",
    "Clustermap of the BioQC-scores. BioQC scores exceeding 10 are clipped. "
   ]
  },
  {
   "cell_type": "code",
   "execution_count": 14,
   "metadata": {
    "collapsed": false
   },
   "outputs": [],
   "source": [
    "score_mat = aggregate_scores(st.sort_signatures(gtex_sig_ind), scores, m_target_new)"
   ]
  },
  {
   "cell_type": "code",
   "execution_count": 15,
   "metadata": {
    "collapsed": false
   },
   "outputs": [
    {
     "data": {
      "image/png": "[encoded data removed]",
      "text/plain": [
       "<matplotlib.figure.Figure at 0x7fff7962f9e8>"
      ]
     },
     "metadata": {},
     "output_type": "display_data"
    }
   ],
   "source": [
    "fig, ax = plot_score_heatmap(score_mat)"
   ]
  }
 ],
 "metadata": {
  "kernelspec": {
   "display_name": "Python [Root]",
   "language": "python",
   "name": "Python [Root]"
  },
  "language_info": {
   "codemirror_mode": {
    "name": "ipython",
    "version": 3
   },
   "file_extension": ".py",
   "mimetype": "text/x-python",
   "name": "python",
   "nbconvert_exporter": "python",
   "pygments_lexer": "ipython3",
   "version": "3.5.2"
  }
 },
 "nbformat": 4,
 "nbformat_minor": 0
}
