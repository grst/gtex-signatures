{
 "cells": [
  {
   "cell_type": "code",
   "execution_count": 1,
   "metadata": {
    "collapsed": false
   },
   "outputs": [],
   "source": [
    "import sys\n",
    "\n",
    "%load_ext autoreload\n",
    "%autoreload 1\n",
    "%aimport pygenesig\n",
    "%matplotlib inline\n",
    "\n",
    "import numpy as np\n",
    "import pandas as pd\n",
    "from collections import OrderedDict\n",
    "import dask.dataframe as dd\n",
    "from pygenesig.tools import collapse_matrix\n"
   ]
  },
  {
   "cell_type": "markdown",
   "metadata": {},
   "source": [
    "# Preprocess GTEx data\n",
    "For the crossvalidation we need a\n",
    "* matrix of gene expression data\n",
    "* list of target classes (signatures) \n",
    "\n",
    "Here, we extract the relevant information from the gtex `.gct` and annotation files. "
   ]
  },
  {
   "cell_type": "code",
   "execution_count": 2,
   "metadata": {
    "collapsed": false
   },
   "outputs": [
    {
     "name": "stdout",
     "output_type": "stream",
     "text": [
      "exp.tissuemark.gtex.roche.symbols.gmt\r\n",
      "GTEx_Analysis_v6p_RNA-seq_RNA-SeQCv1.1.8_gene_rpkm.gct.gz\r\n",
      "GTEx_Analysis_v6_RNA-seq_RNA-SeQCv1.1.8_gene_rpkm.gct\r\n",
      "GTEx_Data_V6_Annotations_SampleAttributesDS.txt\r\n",
      "GTEx-UDISDataSetID5681-sampleAnnotation.txt\r\n",
      "mouseGNF\r\n",
      "v6_UDIS.txt\r\n"
     ]
    }
   ],
   "source": [
    "!ls ../data"
   ]
  },
  {
   "cell_type": "code",
   "execution_count": 3,
   "metadata": {
    "collapsed": false
   },
   "outputs": [
    {
     "name": "stderr",
     "output_type": "stream",
     "text": [
      "/pstore/apps/Anaconda3/2.5.0/lib/python3.5/site-packages/IPython/core/interactiveshell.py:2902: DtypeWarning: Columns (32,34,38) have mixed types. Specify dtype option on import or set low_memory=False.\n",
      "  interactivity=interactivity, compiler=compiler, result=result)\n"
     ]
    }
   ],
   "source": [
    "hgnc_symbols = pd.read_csv(\"../../pygenesig/data/baseline/hgnc_complete_set.txt\", sep=\"\\t\").symbol.tolist()"
   ]
  },
  {
   "cell_type": "code",
   "execution_count": 4,
   "metadata": {
    "collapsed": false
   },
   "outputs": [],
   "source": [
    "pdata = pd.read_csv(\"../data/GTEx_Data_V6_Annotations_SampleAttributesDS.txt\", sep=\"\\t\", index_col=0)"
   ]
  },
  {
   "cell_type": "code",
   "execution_count": 5,
   "metadata": {
    "collapsed": false
   },
   "outputs": [],
   "source": [
    "gct = pd.read_csv(\"../data/GTEx_Analysis_v6_RNA-seq_RNA-SeQCv1.1.8_gene_rpkm.gct\", sep=\"\\t\", skiprows=2, index_col=0)"
   ]
  },
  {
   "cell_type": "code",
   "execution_count": 6,
   "metadata": {
    "collapsed": false
   },
   "outputs": [],
   "source": [
    "pdata = pdata.loc[gct.columns[1:], :]"
   ]
  },
  {
   "cell_type": "code",
   "execution_count": 8,
   "metadata": {
    "collapsed": true
   },
   "outputs": [],
   "source": [
    "gene_symbols = gct.Description.apply(lambda x: x.split(\".\")[0])"
   ]
  },
  {
   "cell_type": "code",
   "execution_count": 9,
   "metadata": {
    "collapsed": false
   },
   "outputs": [
    {
     "data": {
      "text/plain": [
       "SMTSD\n",
       "Adipose - Subcutaneous                       350\n",
       "Adipose - Visceral (Omentum)                 227\n",
       "Adrenal Gland                                145\n",
       "Artery - Aorta                               224\n",
       "Artery - Coronary                            133\n",
       "Artery - Tibial                              332\n",
       "Bladder                                       11\n",
       "Brain - Amygdala                              72\n",
       "Brain - Anterior cingulate cortex (BA24)      84\n",
       "Brain - Caudate (basal ganglia)              117\n",
       "Brain - Cerebellar Hemisphere                105\n",
       "Brain - Cerebellum                           125\n",
       "Brain - Cortex                               114\n",
       "Brain - Frontal Cortex (BA9)                 108\n",
       "Brain - Hippocampus                           94\n",
       "Brain - Hypothalamus                          96\n",
       "Brain - Nucleus accumbens (basal ganglia)    113\n",
       "Brain - Putamen (basal ganglia)               97\n",
       "Brain - Spinal cord (cervical c-1)            71\n",
       "Brain - Substantia nigra                      63\n",
       "Breast - Mammary Tissue                      214\n",
       "Cells - EBV-transformed lymphocytes          118\n",
       "Cells - Transformed fibroblasts              284\n",
       "Cervix - Ectocervix                            6\n",
       "Cervix - Endocervix                            5\n",
       "Colon - Sigmoid                              149\n",
       "Colon - Transverse                           196\n",
       "Esophagus - Gastroesophageal Junction        153\n",
       "Esophagus - Mucosa                           286\n",
       "Esophagus - Muscularis                       247\n",
       "Fallopian Tube                                 6\n",
       "Heart - Atrial Appendage                     194\n",
       "Heart - Left Ventricle                       218\n",
       "Kidney - Cortex                               32\n",
       "Liver                                        119\n",
       "Lung                                         320\n",
       "Minor Salivary Gland                          57\n",
       "Muscle - Skeletal                            430\n",
       "Nerve - Tibial                               304\n",
       "Ovary                                         97\n",
       "Pancreas                                     171\n",
       "Pituitary                                    103\n",
       "Prostate                                     106\n",
       "Skin - Not Sun Exposed (Suprapubic)          250\n",
       "Skin - Sun Exposed (Lower leg)               357\n",
       "Small Intestine - Terminal Ileum              88\n",
       "Spleen                                       104\n",
       "Stomach                                      193\n",
       "Testis                                       172\n",
       "Thyroid                                      323\n",
       "Uterus                                        83\n",
       "Vagina                                        96\n",
       "Whole Blood                                  393\n",
       "Name: SMCENTER, dtype: int64"
      ]
     },
     "execution_count": 9,
     "metadata": {},
     "output_type": "execute_result"
    }
   ],
   "source": [
    "grouped = pdata.groupby(\"SMTSD\")\n",
    "tissue_count = grouped.count().iloc[:,1]\n",
    "tissue_count"
   ]
  },
  {
   "cell_type": "code",
   "execution_count": 10,
   "metadata": {
    "collapsed": true
   },
   "outputs": [],
   "source": [
    "pdata = pdata[pdata.SMTSD.isin(tissue_count[tissue_count > 30].index)]"
   ]
  },
  {
   "cell_type": "code",
   "execution_count": 12,
   "metadata": {
    "collapsed": true
   },
   "outputs": [],
   "source": [
    "exprs = gct.iloc[:,1:].loc[:,pdata.index]"
   ]
  },
  {
   "cell_type": "code",
   "execution_count": 13,
   "metadata": {
    "collapsed": false
   },
   "outputs": [
    {
     "data": {
      "text/plain": [
       "((8527, 63), (56318, 8556), (56318, 8527))"
      ]
     },
     "execution_count": 13,
     "metadata": {},
     "output_type": "execute_result"
    }
   ],
   "source": [
    "pdata.shape, gct.shape, exprs.shape"
   ]
  },
  {
   "cell_type": "code",
   "execution_count": 16,
   "metadata": {
    "collapsed": true
   },
   "outputs": [],
   "source": [
    "exprs_collapsed = collapse_matrix(exprs, gene_symbols[exprs.index].tolist(), axis=0, aggregate_fun=np.sum)"
   ]
  },
  {
   "cell_type": "code",
   "execution_count": 17,
   "metadata": {
    "collapsed": false
   },
   "outputs": [
    {
     "data": {
      "text/plain": [
       "(46169, 8527)"
      ]
     },
     "execution_count": 17,
     "metadata": {},
     "output_type": "execute_result"
    }
   ],
   "source": [
    "exprs_collapsed.shape"
   ]
  },
  {
   "cell_type": "code",
   "execution_count": 18,
   "metadata": {
    "collapsed": false
   },
   "outputs": [],
   "source": [
    "exprs_collapsed = exprs_collapsed[exprs_collapsed.index.isin(hgnc_symbols)]"
   ]
  },
  {
   "cell_type": "code",
   "execution_count": 19,
   "metadata": {
    "collapsed": false
   },
   "outputs": [
    {
     "data": {
      "text/plain": [
       "(31819, 8527)"
      ]
     },
     "execution_count": 19,
     "metadata": {},
     "output_type": "execute_result"
    }
   ],
   "source": [
    "exprs_collapsed.shape"
   ]
  },
  {
   "cell_type": "markdown",
   "metadata": {},
   "source": [
    "## Store results"
   ]
  },
  {
   "cell_type": "code",
   "execution_count": 20,
   "metadata": {
    "collapsed": false
   },
   "outputs": [],
   "source": [
    "np.save(\"../results/exprs.npy\", exprs.as_matrix())\n",
    "np.save(\"../results/exprs_by_gene.npy\", exprs_collapsed.as_matrix())"
   ]
  },
  {
   "cell_type": "code",
   "execution_count": 23,
   "metadata": {
    "collapsed": false
   },
   "outputs": [],
   "source": [
    "fdata = pd.Series(exprs.index)\n",
    "fdata_collapsed = pd.Series(exprs_collapsed.index)"
   ]
  },
  {
   "cell_type": "code",
   "execution_count": 24,
   "metadata": {
    "collapsed": true
   },
   "outputs": [],
   "source": [
    "fdata.to_csv(\"../results/fdata.tsv\", sep=\"\\t\")\n",
    "fdata_collapsed.to_csv(\"../results/fdata_by_gene.tsv\", sep=\"\\t\")"
   ]
  },
  {
   "cell_type": "markdown",
   "metadata": {},
   "source": [
    "**make sure target is in the same order as exprs columns**"
   ]
  },
  {
   "cell_type": "code",
   "execution_count": 30,
   "metadata": {
    "collapsed": false
   },
   "outputs": [],
   "source": [
    "assert np.all(exprs_collapsed.columns == pdata.SMTSD.index), \"order of exprs and target are not identical\"\n",
    "assert sum(pdata.SMTSD.isnull()) == 0, \"tissue annotation contains NaN's\""
   ]
  },
  {
   "cell_type": "code",
   "execution_count": 31,
   "metadata": {
    "collapsed": false
   },
   "outputs": [],
   "source": [
    "target = np.array([str(x) for x in pdata.SMTSD])\n",
    "np.savetxt(\"../results/target.csv\", target, delimiter=\",\", fmt=\"%s\")"
   ]
  },
  {
   "cell_type": "code",
   "execution_count": 32,
   "metadata": {
    "collapsed": false
   },
   "outputs": [
    {
     "data": {
      "text/plain": [
       "array(['Adipose - Subcutaneous', 'Adipose - Visceral (Omentum)',\n",
       "       'Adrenal Gland', 'Artery - Aorta', 'Artery - Coronary',\n",
       "       'Artery - Tibial', 'Brain - Amygdala',\n",
       "       'Brain - Anterior cingulate cortex (BA24)',\n",
       "       'Brain - Caudate (basal ganglia)', 'Brain - Cerebellar Hemisphere',\n",
       "       'Brain - Cerebellum', 'Brain - Cortex',\n",
       "       'Brain - Frontal Cortex (BA9)', 'Brain - Hippocampus',\n",
       "       'Brain - Hypothalamus', 'Brain - Nucleus accumbens (basal ganglia)',\n",
       "       'Brain - Putamen (basal ganglia)',\n",
       "       'Brain - Spinal cord (cervical c-1)', 'Brain - Substantia nigra',\n",
       "       'Breast - Mammary Tissue', 'Cells - EBV-transformed lymphocytes',\n",
       "       'Cells - Transformed fibroblasts', 'Colon - Sigmoid',\n",
       "       'Colon - Transverse', 'Esophagus - Gastroesophageal Junction',\n",
       "       'Esophagus - Mucosa', 'Esophagus - Muscularis',\n",
       "       'Heart - Atrial Appendage', 'Heart - Left Ventricle',\n",
       "       'Kidney - Cortex', 'Liver', 'Lung', 'Minor Salivary Gland',\n",
       "       'Muscle - Skeletal', 'Nerve - Tibial', 'Ovary', 'Pancreas',\n",
       "       'Pituitary', 'Prostate', 'Skin - Not Sun Exposed (Suprapubic)',\n",
       "       'Skin - Sun Exposed (Lower leg)',\n",
       "       'Small Intestine - Terminal Ileum', 'Spleen', 'Stomach', 'Testis',\n",
       "       'Thyroid', 'Uterus', 'Vagina', 'Whole Blood'], \n",
       "      dtype='<U41')"
      ]
     },
     "execution_count": 32,
     "metadata": {},
     "output_type": "execute_result"
    }
   ],
   "source": [
    "np.unique(target)"
   ]
  },
  {
   "cell_type": "code",
   "execution_count": null,
   "metadata": {
    "collapsed": true
   },
   "outputs": [],
   "source": []
  }
 ],
 "metadata": {
  "kernelspec": {
   "display_name": "Python 3",
   "language": "python",
   "name": "python3"
  },
  "language_info": {
   "codemirror_mode": {
    "name": "ipython",
    "version": 3
   },
   "file_extension": ".py",
   "mimetype": "text/x-python",
   "name": "python",
   "nbconvert_exporter": "python",
   "pygments_lexer": "ipython3",
   "version": "3.5.1"
  }
 },
 "nbformat": 4,
 "nbformat_minor": 0
}
