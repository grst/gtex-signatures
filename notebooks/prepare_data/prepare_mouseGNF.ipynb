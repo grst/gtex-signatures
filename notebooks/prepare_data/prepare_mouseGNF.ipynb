{
 "cells": [
  {
   "cell_type": "code",
   "execution_count": 1,
   "metadata": {
    "collapsed": false
   },
   "outputs": [],
   "source": [
    "%load_ext autoreload\n",
    "%autoreload 1\n",
    "%aimport prepare_data\n",
    "\n",
    "from prepare_data import * \n",
    "from pygenesig.tools import collapse_matrix\n",
    "from pygenesig.file_formats import * \n",
    "\n",
    "import numpy as np\n",
    "import pandas as pd"
   ]
  },
  {
   "cell_type": "markdown",
   "metadata": {},
   "source": [
    "# Preprocess mouseGNF\n",
    "For the crossvalidation we need a\n",
    "* matrix of gene expression data\n",
    "* list of target classes (signatures) \n",
    "\n",
    "## Load data"
   ]
  },
  {
   "cell_type": "code",
   "execution_count": 2,
   "metadata": {
    "collapsed": false
   },
   "outputs": [
    {
     "name": "stdout",
     "output_type": "stream",
     "text": [
      "map_orthologoues.tsv\t  mouseGNF-phenoData.txt     mouse.txt\r\n",
      "mouseGNF-featureData.txt  mouseGNF-signalMatrix.gct\r\n"
     ]
    }
   ],
   "source": [
    "!ls ../../data/mouseGNF/"
   ]
  },
  {
   "cell_type": "code",
   "execution_count": 3,
   "metadata": {
    "collapsed": false
   },
   "outputs": [
    {
     "name": "stderr",
     "output_type": "stream",
     "text": [
      "/pstore/apps/Anaconda3/4.1.1/lib/python3.5/site-packages/IPython/core/interactiveshell.py:2723: DtypeWarning: Columns (32,34,38) have mixed types. Specify dtype option on import or set low_memory=False.\n",
      "  interactivity=interactivity, compiler=compiler, result=result)\n"
     ]
    }
   ],
   "source": [
    "hgnc_symbols = pd.read_csv(\"../../data/hgnc_complete_set.txt\", sep=\"\\t\").symbol.tolist()"
   ]
  },
  {
   "cell_type": "code",
   "execution_count": 7,
   "metadata": {
    "collapsed": false
   },
   "outputs": [],
   "source": [
    "pdata = pd.read_csv(\"../../data/mouseGNF/mouseGNF-phenoData.txt\", sep=\"\\t\", index_col=0)"
   ]
  },
  {
   "cell_type": "code",
   "execution_count": 5,
   "metadata": {
    "collapsed": false
   },
   "outputs": [],
   "source": [
    "gct = pd.read_csv(\"../../data/mouseGNF/mouseGNF-signalMatrix.gct\", sep=\"\\t\", skiprows=2, index_col=0)"
   ]
  },
  {
   "cell_type": "code",
   "execution_count": 11,
   "metadata": {
    "collapsed": false
   },
   "outputs": [],
   "source": [
    "human_to_mouse = pd.read_csv(\"../../data/mouseGNF/map_orthologoues.tsv\", delimiter=\"\\t\")"
   ]
  },
  {
   "cell_type": "code",
   "execution_count": 13,
   "metadata": {
    "collapsed": false
   },
   "outputs": [
    {
     "data": {
      "text/plain": [
       "((45101, 5), (45101, 183), (182, 33))"
      ]
     },
     "execution_count": 13,
     "metadata": {},
     "output_type": "execute_result"
    }
   ],
   "source": [
    "human_to_mouse.shape, gct.shape, pdata.shape"
   ]
  },
  {
   "cell_type": "code",
   "execution_count": 27,
   "metadata": {
    "collapsed": false
   },
   "outputs": [],
   "source": [
    "target_series = pdata.loc[~pdata[\"GEO.source.name\"].isnull(), \"GEO.source.name\"].apply(\n",
    "    lambda x: \"_\".join(x.split(\"_\")[:-1]))"
   ]
  },
  {
   "cell_type": "code",
   "execution_count": 38,
   "metadata": {
    "collapsed": false
   },
   "outputs": [],
   "source": [
    "exprs = gct.loc[:, target_series.index].values"
   ]
  },
  {
   "cell_type": "code",
   "execution_count": 32,
   "metadata": {
    "collapsed": false
   },
   "outputs": [],
   "source": [
    "target = target_series.as_matrix()"
   ]
  },
  {
   "cell_type": "code",
   "execution_count": 35,
   "metadata": {
    "collapsed": true
   },
   "outputs": [],
   "source": [
    "gene_symbols = human_to_mouse.GeneSymbol"
   ]
  },
  {
   "cell_type": "code",
   "execution_count": 36,
   "metadata": {
    "collapsed": false
   },
   "outputs": [
    {
     "data": {
      "text/plain": [
       "((45101, 160), (160,), (45101,))"
      ]
     },
     "execution_count": 36,
     "metadata": {},
     "output_type": "execute_result"
    }
   ],
   "source": [
    "expr.shape, target.shape, gene_symbols.shape"
   ]
  },
  {
   "cell_type": "markdown",
   "metadata": {},
   "source": [
    "### Collapse gene expression by symbol"
   ]
  },
  {
   "cell_type": "code",
   "execution_count": 39,
   "metadata": {
    "collapsed": false
   },
   "outputs": [],
   "source": [
    "exprs_collapsed = collapse_matrix(exprs, gene_symbols.tolist(), axis=0, aggregate_fun=np.sum)"
   ]
  },
  {
   "cell_type": "code",
   "execution_count": 40,
   "metadata": {
    "collapsed": false
   },
   "outputs": [
    {
     "data": {
      "text/plain": [
       "(16020, 160)"
      ]
     },
     "execution_count": 40,
     "metadata": {},
     "output_type": "execute_result"
    }
   ],
   "source": [
    "exprs_collapsed.shape"
   ]
  },
  {
   "cell_type": "code",
   "execution_count": 41,
   "metadata": {
    "collapsed": false
   },
   "outputs": [],
   "source": [
    "exprs_collapsed = exprs_collapsed[exprs_collapsed.index.isin(hgnc_symbols)]"
   ]
  },
  {
   "cell_type": "code",
   "execution_count": 42,
   "metadata": {
    "collapsed": false
   },
   "outputs": [
    {
     "data": {
      "text/plain": [
       "(15851, 160)"
      ]
     },
     "execution_count": 42,
     "metadata": {},
     "output_type": "execute_result"
    }
   ],
   "source": [
    "exprs_collapsed.shape"
   ]
  },
  {
   "cell_type": "markdown",
   "metadata": {},
   "source": [
    "## Store results"
   ]
  },
  {
   "cell_type": "code",
   "execution_count": 43,
   "metadata": {
    "collapsed": true
   },
   "outputs": [],
   "source": [
    "!mkdir -p ../../data_processed/mouseGNF"
   ]
  },
  {
   "cell_type": "code",
   "execution_count": 45,
   "metadata": {
    "collapsed": true
   },
   "outputs": [],
   "source": [
    "write_target(target, \"../../data_processed/mouseGNF/target.csv\")\n",
    "write_rosetta(exprs_collapsed.index.tolist(), \"../../data_processed/mouseGNF/rosetta.csv\")"
   ]
  },
  {
   "cell_type": "code",
   "execution_count": 46,
   "metadata": {
    "collapsed": true
   },
   "outputs": [],
   "source": [
    "write_expr(exprs_collapsed.as_matrix(), \"../../data_processed/mouseGNF/exprs.npy\")"
   ]
  },
  {
   "cell_type": "code",
   "execution_count": 47,
   "metadata": {
    "collapsed": false
   },
   "outputs": [
    {
     "data": {
      "text/plain": [
       "array(['B-cells_marginal_zone', 'NK_cells', 'T-cells_CD4+', 'T-cells_CD8+',\n",
       "       'T-cells_foxP3+', 'adipose_brown', 'adipose_white', 'adrenal_gland',\n",
       "       'amygdala', 'bladder', 'bone', 'bone_marrow', 'cerebellum',\n",
       "       'cerebral_cortex', 'cerebral_cortex_prefrontal', 'ciliary_bodies',\n",
       "       'common_myeloid_progenitor', 'cornea',\n",
       "       'dendritic_cells_lymphoid_CD8a+', 'dendritic_cells_myeloid_CD8a-',\n",
       "       'dendritic_plasmacytoid_B220+', 'dorsal_root_ganglia',\n",
       "       'dorsal_striatum', 'epidermis', 'eyecup', 'follicular_B-cells',\n",
       "       'granulo_mono_progenitor', 'granulocytes_mac1+gr1+', 'heart',\n",
       "       'hippocampus', 'hypothalamus', 'intestine_large', 'intestine_small',\n",
       "       'iris', 'kidney', 'lacrimal_gland', 'lens', 'liver', 'lung',\n",
       "       'lymph_nodes', 'macrophage_bone_marrow_0hr',\n",
       "       'macrophage_bone_marrow_24h_LPS', 'macrophage_bone_marrow_2hr_LPS',\n",
       "       'macrophage_bone_marrow_6hr_LPS', 'macrophage_peri_LPS_thio_0hrs',\n",
       "       'macrophage_peri_LPS_thio_1hrs', 'macrophage_peri_LPS_thio_7hrs',\n",
       "       'mammary_gland__lact', 'mammary_gland_non-lactating', 'mast_cells',\n",
       "       'mast_cells_IgE', 'mast_cells_IgE+antigen_1hr',\n",
       "       'mast_cells_IgE+antigen_6hr', 'mega_erythrocyte_progenitor',\n",
       "       'microglia', 'nucleus_accumbens', 'olfactory_bulb',\n",
       "       'osteoblast_day14', 'osteoblast_day21', 'osteoblast_day5',\n",
       "       'osteoclasts', 'ovary', 'pancreas', 'pituitary', 'placenta',\n",
       "       'prostate', 'retina', 'retinal_pigment_epithelium',\n",
       "       'salivary_gland', 'skeletal_muscle', 'spinal_cord', 'spleen',\n",
       "       'stem_cells__HSC', 'stomach', 'testis', 'thymocyte_DP_CD4+CD8+',\n",
       "       'thymocyte_SP_CD4+', 'thymocyte_SP_CD8+', 'umbilical_cord', 'uterus'], dtype=object)"
      ]
     },
     "execution_count": 47,
     "metadata": {},
     "output_type": "execute_result"
    }
   ],
   "source": [
    "np.unique(target)"
   ]
  },
  {
   "cell_type": "code",
   "execution_count": null,
   "metadata": {
    "collapsed": true
   },
   "outputs": [],
   "source": []
  }
 ],
 "metadata": {
  "anaconda-cloud": {},
  "kernelspec": {
   "display_name": "Python [Root]",
   "language": "python",
   "name": "Python [Root]"
  },
  "language_info": {
   "codemirror_mode": {
    "name": "ipython",
    "version": 3
   },
   "file_extension": ".py",
   "mimetype": "text/x-python",
   "name": "python",
   "nbconvert_exporter": "python",
   "pygments_lexer": "ipython3",
   "version": "3.5.2"
  }
 },
 "nbformat": 4,
 "nbformat_minor": 0
}
