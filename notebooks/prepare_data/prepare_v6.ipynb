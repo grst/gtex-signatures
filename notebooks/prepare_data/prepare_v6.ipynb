{
 "cells": [
  {
   "cell_type": "code",
   "execution_count": 2,
   "metadata": {
    "collapsed": false
   },
   "outputs": [
    {
     "name": "stdout",
     "output_type": "stream",
     "text": [
      "The autoreload extension is already loaded. To reload it, use:\n",
      "  %reload_ext autoreload\n"
     ]
    }
   ],
   "source": [
    "%load_ext autoreload\n",
    "%autoreload 1\n",
    "%aimport prepare_data\n",
    "\n",
    "from prepare_data import * \n",
    "from pygenesig.tools import collapse_matrix\n",
    "from pygenesig.file_formats import * \n",
    "\n",
    "import numpy as np\n",
    "import pandas as pd"
   ]
  },
  {
   "cell_type": "markdown",
   "metadata": {},
   "source": [
    "# Preprocess GTEx data\n",
    "For the crossvalidation we need a\n",
    "* matrix of gene expression data\n",
    "* list of target classes (signatures) \n",
    "\n",
    "## Load data"
   ]
  },
  {
   "cell_type": "code",
   "execution_count": 5,
   "metadata": {
    "collapsed": false
   },
   "outputs": [
    {
     "name": "stdout",
     "output_type": "stream",
     "text": [
      "GTEx_Analysis_v6p_RNA-seq_RNA-SeQCv1.1.8_gene_rpkm.gct\r\n",
      "GTEx_Analysis_v6_RNA-seq_RNA-SeQCv1.1.8_gene_rpkm.gct\r\n",
      "GTEx_Data_V6_Annotations_SampleAttributesDS.txt\r\n"
     ]
    }
   ],
   "source": [
    "!ls ../../data/v6/"
   ]
  },
  {
   "cell_type": "code",
   "execution_count": 16,
   "metadata": {
    "collapsed": false
   },
   "outputs": [
    {
     "name": "stderr",
     "output_type": "stream",
     "text": [
      "/pstore/apps/Anaconda3/2.5.0/lib/python3.5/site-packages/IPython/core/interactiveshell.py:2902: DtypeWarning: Columns (32,34,38) have mixed types. Specify dtype option on import or set low_memory=False.\n",
      "  interactivity=interactivity, compiler=compiler, result=result)\n"
     ]
    }
   ],
   "source": [
    "hgnc_symbols = pd.read_csv(\"../../data/hgnc_complete_set.txt\", sep=\"\\t\").symbol.tolist()"
   ]
  },
  {
   "cell_type": "code",
   "execution_count": 9,
   "metadata": {
    "collapsed": false
   },
   "outputs": [],
   "source": [
    "pdata = pd.read_csv(\"../../data/v6/GTEx_Data_V6_Annotations_SampleAttributesDS.txt\", sep=\"\\t\", index_col=0)"
   ]
  },
  {
   "cell_type": "code",
   "execution_count": 10,
   "metadata": {
    "collapsed": false
   },
   "outputs": [],
   "source": [
    "gct = pd.read_csv(\"../../data/v6/GTEx_Analysis_v6p_RNA-seq_RNA-SeQCv1.1.8_gene_rpkm.gct\", sep=\"\\t\", skiprows=2, index_col=0)"
   ]
  },
  {
   "cell_type": "markdown",
   "metadata": {},
   "source": [
    "## Process data"
   ]
  },
  {
   "cell_type": "code",
   "execution_count": 29,
   "metadata": {
    "collapsed": false
   },
   "outputs": [],
   "source": [
    "pdata = pdata.loc[gct.columns[1:], :]\n",
    "target = pdata.SMTSD.apply(sanitze_name).as_matrix()\n",
    "exprs = gct.iloc[:, 1:].as_matrix()\n",
    "gene_symbols = gct.Description.apply(lambda x: x.split(\".\")[0])"
   ]
  },
  {
   "cell_type": "code",
   "execution_count": 30,
   "metadata": {
    "collapsed": false
   },
   "outputs": [
    {
     "data": {
      "text/plain": [
       "((8555, 63), (8555,), (56238, 8555), (56238,))"
      ]
     },
     "execution_count": 30,
     "metadata": {},
     "output_type": "execute_result"
    }
   ],
   "source": [
    "pdata.shape, target.shape, exprs.shape, gene_symbols.shape"
   ]
  },
  {
   "cell_type": "markdown",
   "metadata": {},
   "source": [
    "### Collapse gene expression by symbol"
   ]
  },
  {
   "cell_type": "code",
   "execution_count": 24,
   "metadata": {
    "collapsed": true
   },
   "outputs": [],
   "source": [
    "exprs_collapsed = collapse_matrix(exprs, gene_symbols.tolist(), axis=0, aggregate_fun=np.sum)"
   ]
  },
  {
   "cell_type": "code",
   "execution_count": 25,
   "metadata": {
    "collapsed": false
   },
   "outputs": [
    {
     "data": {
      "text/plain": [
       "(46226, 8555)"
      ]
     },
     "execution_count": 25,
     "metadata": {},
     "output_type": "execute_result"
    }
   ],
   "source": [
    "exprs_collapsed.shape"
   ]
  },
  {
   "cell_type": "code",
   "execution_count": 26,
   "metadata": {
    "collapsed": false
   },
   "outputs": [],
   "source": [
    "exprs_collapsed = exprs_collapsed[exprs_collapsed.index.isin(hgnc_symbols)]"
   ]
  },
  {
   "cell_type": "code",
   "execution_count": 27,
   "metadata": {
    "collapsed": false
   },
   "outputs": [
    {
     "data": {
      "text/plain": [
       "(31986, 8555)"
      ]
     },
     "execution_count": 27,
     "metadata": {},
     "output_type": "execute_result"
    }
   ],
   "source": [
    "exprs_collapsed.shape"
   ]
  },
  {
   "cell_type": "markdown",
   "metadata": {},
   "source": [
    "## Store results"
   ]
  },
  {
   "cell_type": "code",
   "execution_count": 33,
   "metadata": {
    "collapsed": true
   },
   "outputs": [],
   "source": [
    "!mkdir -p ../../data_processed/v6"
   ]
  },
  {
   "cell_type": "code",
   "execution_count": 34,
   "metadata": {
    "collapsed": true
   },
   "outputs": [],
   "source": [
    "write_target(target, \"../../data_processed/v6/target.csv\")\n",
    "write_rosetta(exprs_collapsed.index.tolist(), \"../../data_processed/v6/rosetta.csv\")"
   ]
  },
  {
   "cell_type": "code",
   "execution_count": 35,
   "metadata": {
    "collapsed": true
   },
   "outputs": [],
   "source": [
    "write_expr(exprs_collapsed.as_matrix(), \"../../data_processed/v6/exprs.npy\")"
   ]
  },
  {
   "cell_type": "code",
   "execution_count": 37,
   "metadata": {
    "collapsed": false
   },
   "outputs": [
    {
     "data": {
      "text/plain": [
       "array(['Adipose_Subcutaneous', 'Adipose_Visceral_Omentum', 'Adrenal_Gland',\n",
       "       'Artery_Aorta', 'Artery_Coronary', 'Artery_Tibial', 'Bladder',\n",
       "       'Brain_Amygdala', 'Brain_Anterior_cingulate_cortex_BA24',\n",
       "       'Brain_Caudate_basal_ganglia', 'Brain_Cerebellar_Hemisphere',\n",
       "       'Brain_Cerebellum', 'Brain_Cortex', 'Brain_Frontal_Cortex_BA9',\n",
       "       'Brain_Hippocampus', 'Brain_Hypothalamus',\n",
       "       'Brain_Nucleus_accumbens_basal_ganglia',\n",
       "       'Brain_Putamen_basal_ganglia', 'Brain_Spinal_cord_cervical_c-1',\n",
       "       'Brain_Substantia_nigra', 'Breast_Mammary_Tissue',\n",
       "       'Cells_EBV-transformed_lymphocytes',\n",
       "       'Cells_Transformed_fibroblasts', 'Cervix_Ectocervix',\n",
       "       'Cervix_Endocervix', 'Colon_Sigmoid', 'Colon_Transverse',\n",
       "       'Esophagus_Gastroesophageal_Junction', 'Esophagus_Mucosa',\n",
       "       'Esophagus_Muscularis', 'Fallopian_Tube', 'Heart_Atrial_Appendage',\n",
       "       'Heart_Left_Ventricle', 'Kidney_Cortex', 'Liver', 'Lung',\n",
       "       'Minor_Salivary_Gland', 'Muscle_Skeletal', 'Nerve_Tibial', 'Ovary',\n",
       "       'Pancreas', 'Pituitary', 'Prostate',\n",
       "       'Skin_Not_Sun_Exposed_Suprapubic', 'Skin_Sun_Exposed_Lower_leg',\n",
       "       'Small_Intestine_Terminal_Ileum', 'Spleen', 'Stomach', 'Testis',\n",
       "       'Thyroid', 'Uterus', 'Vagina', 'Whole_Blood'], dtype=object)"
      ]
     },
     "execution_count": 37,
     "metadata": {},
     "output_type": "execute_result"
    }
   ],
   "source": [
    "np.unique(target)"
   ]
  },
  {
   "cell_type": "code",
   "execution_count": null,
   "metadata": {
    "collapsed": true
   },
   "outputs": [],
   "source": []
  }
 ],
 "metadata": {
  "kernelspec": {
   "display_name": "Python 3",
   "language": "python",
   "name": "python3"
  },
  "language_info": {
   "codemirror_mode": {
    "name": "ipython",
    "version": 3
   },
   "file_extension": ".py",
   "mimetype": "text/x-python",
   "name": "python",
   "nbconvert_exporter": "python",
   "pygments_lexer": "ipython3",
   "version": "3.5.1"
  }
 },
 "nbformat": 4,
 "nbformat_minor": 0
}
