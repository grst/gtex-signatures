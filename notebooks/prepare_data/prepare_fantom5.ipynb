{
 "cells": [
  {
   "cell_type": "code",
   "execution_count": 48,
   "metadata": {
    "collapsed": false
   },
   "outputs": [
    {
     "name": "stdout",
     "output_type": "stream",
     "text": [
      "The autoreload extension is already loaded. To reload it, use:\n",
      "  %reload_ext autoreload\n"
     ]
    }
   ],
   "source": [
    "%load_ext autoreload\n",
    "%autoreload 1\n",
    "%aimport prepare_data\n",
    "\n",
    "from prepare_data import * \n",
    "from pygenesig.tools import collapse_matrix\n",
    "from pygenesig.file_formats import * \n",
    "\n",
    "import numpy as np\n",
    "import pandas as pd"
   ]
  },
  {
   "cell_type": "markdown",
   "metadata": {},
   "source": [
    "# Preprocess fantom5\n",
    "Most of the preprocessing has already been done in the fantom5 repository. \n",
    "Here, we just collapse the data by gene symbol. \n",
    "\n",
    "For the crossvalidation we need a\n",
    "* matrix of gene expression data\n",
    "* list of target classes (signatures) \n",
    "\n",
    "## Load data"
   ]
  },
  {
   "cell_type": "code",
   "execution_count": 49,
   "metadata": {
    "collapsed": false
   },
   "outputs": [
    {
     "name": "stdout",
     "output_type": "stream",
     "text": [
      "fdata.csv  gene_symbols.csv  tissue_exprs.npy  tissue_target.csv\r\n"
     ]
    }
   ],
   "source": [
    "!ls ../../data/fantom5/"
   ]
  },
  {
   "cell_type": "code",
   "execution_count": 50,
   "metadata": {
    "collapsed": false
   },
   "outputs": [
    {
     "name": "stderr",
     "output_type": "stream",
     "text": [
      "/pstore/apps/Anaconda3/4.1.1/lib/python3.5/site-packages/IPython/core/interactiveshell.py:2723: DtypeWarning: Columns (32,34,38) have mixed types. Specify dtype option on import or set low_memory=False.\n",
      "  interactivity=interactivity, compiler=compiler, result=result)\n"
     ]
    }
   ],
   "source": [
    "hgnc_symbols = pd.read_csv(\"../../data/hgnc_complete_set.txt\", sep=\"\\t\").symbol.tolist()"
   ]
  },
  {
   "cell_type": "code",
   "execution_count": 51,
   "metadata": {
    "collapsed": false
   },
   "outputs": [],
   "source": [
    "target = read_target(\"../../data/fantom5/tissue_target.csv\")\n",
    "gene_symbols = pd.read_csv(\"../../data/fantom5/gene_symbols.csv\", header=None)[0]\n",
    "exprs = read_expr(\"../../data/fantom5/tissue_exprs.npy\")"
   ]
  },
  {
   "cell_type": "code",
   "execution_count": 52,
   "metadata": {
    "collapsed": false
   },
   "outputs": [
    {
     "data": {
      "text/plain": [
       "((20029,), (20029, 174), (174,))"
      ]
     },
     "execution_count": 52,
     "metadata": {},
     "output_type": "execute_result"
    }
   ],
   "source": [
    "gene_symbols.shape, exprs.shape, target.shape"
   ]
  },
  {
   "cell_type": "code",
   "execution_count": 53,
   "metadata": {
    "collapsed": false
   },
   "outputs": [],
   "source": [
    "valid_symbols = gene_symbols.isin(hgnc_symbols) & (gene_symbols != '-')"
   ]
  },
  {
   "cell_type": "code",
   "execution_count": 54,
   "metadata": {
    "collapsed": false
   },
   "outputs": [],
   "source": [
    "gene_symbols = gene_symbols[valid_symbols.values]\n",
    "exprs = exprs[valid_symbols.values, :]"
   ]
  },
  {
   "cell_type": "code",
   "execution_count": 55,
   "metadata": {
    "collapsed": false
   },
   "outputs": [
    {
     "data": {
      "text/plain": [
       "((19159,), (19159, 174), (174,))"
      ]
     },
     "execution_count": 55,
     "metadata": {},
     "output_type": "execute_result"
    }
   ],
   "source": [
    "gene_symbols.shape, exprs.shape, target.shape"
   ]
  },
  {
   "cell_type": "markdown",
   "metadata": {},
   "source": [
    "### Collapse gene expression by symbol"
   ]
  },
  {
   "cell_type": "code",
   "execution_count": 56,
   "metadata": {
    "collapsed": false
   },
   "outputs": [],
   "source": [
    "exprs_collapsed = collapse_matrix(exprs, gene_symbols.tolist(), axis=0, aggregate_fun=np.sum)"
   ]
  },
  {
   "cell_type": "code",
   "execution_count": 57,
   "metadata": {
    "collapsed": false
   },
   "outputs": [
    {
     "data": {
      "text/plain": [
       "(19159, 174)"
      ]
     },
     "execution_count": 57,
     "metadata": {},
     "output_type": "execute_result"
    }
   ],
   "source": [
    "exprs_collapsed.shape"
   ]
  },
  {
   "cell_type": "markdown",
   "metadata": {},
   "source": [
    "--> nothing to be done! "
   ]
  },
  {
   "cell_type": "markdown",
   "metadata": {},
   "source": [
    "## Store results"
   ]
  },
  {
   "cell_type": "code",
   "execution_count": 58,
   "metadata": {
    "collapsed": true
   },
   "outputs": [],
   "source": [
    "!mkdir -p ../../data_processed/fantom5"
   ]
  },
  {
   "cell_type": "code",
   "execution_count": 59,
   "metadata": {
    "collapsed": true
   },
   "outputs": [],
   "source": [
    "write_target(target, \"../../data_processed/fantom5/target.csv\")\n",
    "write_rosetta(gene_symbols, \"../../data_processed/fantom5/rosetta.csv\")"
   ]
  },
  {
   "cell_type": "code",
   "execution_count": 60,
   "metadata": {
    "collapsed": true
   },
   "outputs": [],
   "source": [
    "write_expr(exprs, \"../../data_processed/fantom5/exprs.npy\")"
   ]
  },
  {
   "cell_type": "code",
   "execution_count": 61,
   "metadata": {
    "collapsed": false
   },
   "outputs": [
    {
     "data": {
      "text/plain": [
       "array(['achilles tendon', 'adipose', 'adipose tissue', 'adrenal gland',\n",
       "       'amygdala', 'aorta', 'appendix', 'artery', 'bladder', 'blood',\n",
       "       'bone marrow', 'brain', 'breast', 'caudate nucleus', 'cerebellum',\n",
       "       'cerebellum - adult', 'cerebral meninges', 'cerebrospinal fluid',\n",
       "       'cervix', 'clontech human universal reference total rna', 'colon',\n",
       "       'corpus callosum', 'cruciate ligament', 'diaphragm', 'diencephalon',\n",
       "       'ductus deferens', 'duodenum', 'dura mater', 'epididymis',\n",
       "       'esophagus', 'eye', 'eye - muscle inferior rectus',\n",
       "       'eye - muscle lateral', 'eye - muscle medial',\n",
       "       'eye - muscle superior', 'eye - vitreous humor',\n",
       "       'fingernail (including nail plate', 'frontal lobe', 'gall bladder',\n",
       "       'globus pallidus', 'heart', 'heart - mitral valve',\n",
       "       'heart - pulmonic valve', 'heart - tricuspid valve', 'hippocampus',\n",
       "       'insula', 'kidney', 'left atrium', 'left ventricle', 'liver',\n",
       "       'locus coeruleus', 'locus coeruleus - adult', 'lung', 'lymph node',\n",
       "       'medial frontal gyrus', 'medial frontal gyrus - adult',\n",
       "       'medial temporal gyrus', 'medulla oblongata', 'nucleus accumbens',\n",
       "       'occipital cortex', 'occipital lobe', 'occipital pole',\n",
       "       'olfactory region', 'optic nerve', 'ovary', 'pancreas',\n",
       "       'paracentral gyrus', 'parietal cortex', 'parietal lobe',\n",
       "       'parotid gland', 'penis', 'pineal gland', 'pituitary gland',\n",
       "       'placenta', 'pons', 'postcentral gyrus', 'prostate', 'putamen',\n",
       "       'rectum', 'retina',\n",
       "       'sabiosciences xpressref human universal total rna',\n",
       "       'salivary gland', 'seminal vesicle', 'skeletal muscle',\n",
       "       'skeletal muscle - soleus muscle', 'skin', 'skin - palm',\n",
       "       'small intestine', 'smooth muscle',\n",
       "       'smooth muscle cells - bronchial', 'spinal cord', 'spleen',\n",
       "       'stomach', 'submaxillary gland', 'substantia nigra',\n",
       "       'substantia nigria', 'temporal lobe', 'testis', 'thalamus',\n",
       "       'throat', 'thymus', 'thyroid', 'tongue',\n",
       "       'tongue epidermis (fungiform papillae)', 'tonsil', 'trachea',\n",
       "       'umbilical cord', 'universal rna - human normal tissues biochain',\n",
       "       'urethra', 'uterus', 'vagina', 'vein'], \n",
       "      dtype='<U49')"
      ]
     },
     "execution_count": 61,
     "metadata": {},
     "output_type": "execute_result"
    }
   ],
   "source": [
    "np.unique(target)"
   ]
  },
  {
   "cell_type": "code",
   "execution_count": null,
   "metadata": {
    "collapsed": true
   },
   "outputs": [],
   "source": []
  }
 ],
 "metadata": {
  "anaconda-cloud": {},
  "kernelspec": {
   "display_name": "Python [Root]",
   "language": "python",
   "name": "Python [Root]"
  },
  "language_info": {
   "codemirror_mode": {
    "name": "ipython",
    "version": 3
   },
   "file_extension": ".py",
   "mimetype": "text/x-python",
   "name": "python",
   "nbconvert_exporter": "python",
   "pygments_lexer": "ipython3",
   "version": "3.5.2"
  }
 },
 "nbformat": 4,
 "nbformat_minor": 0
}
