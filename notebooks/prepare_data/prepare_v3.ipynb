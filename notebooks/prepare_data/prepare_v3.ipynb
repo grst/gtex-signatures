{
 "cells": [
  {
   "cell_type": "code",
   "execution_count": 1,
   "metadata": {
    "collapsed": false
   },
   "outputs": [],
   "source": [
    "%load_ext autoreload\n",
    "%autoreload 1\n",
    "%aimport prepare_data\n",
    "\n",
    "from prepare_data import * \n",
    "from pygenesig.tools import collapse_matrix\n",
    "from pygenesig.file_formats import * \n",
    "\n",
    "import numpy as np\n",
    "import pandas as pd"
   ]
  },
  {
   "cell_type": "markdown",
   "metadata": {},
   "source": [
    "## Load data"
   ]
  },
  {
   "cell_type": "code",
   "execution_count": 2,
   "metadata": {
    "collapsed": false
   },
   "outputs": [],
   "source": [
    "pdata = pd.read_csv(\"../../data/v3/roche_annotated_pdata.tsv\", sep=\"\\t\")\n",
    "fdata = pd.read_csv(\"../../data/v3/roche_annotated_fdata.tsv\", sep=\"\\t\")\n",
    "fdata_unprocessed = pd.read_csv(\"../../data/v3/RocheAnnotated_GTEx_RNA-seq_RNA-SeQCv1.1.8_gene_rpkm__Pilot_2013_01_31-featureAnnotation.txt\", sep=\"\\t\")"
   ]
  },
  {
   "cell_type": "code",
   "execution_count": 3,
   "metadata": {
    "collapsed": false
   },
   "outputs": [],
   "source": [
    "exprs_unprocessed = read_gct(\"../../data/v3/RocheAnnotated_GTEx_RNA-seq_RNA-SeQCv1.1.8_gene_rpkm__Pilot_2013_01_31.gct\")"
   ]
  },
  {
   "cell_type": "code",
   "execution_count": 4,
   "metadata": {
    "collapsed": true
   },
   "outputs": [],
   "source": [
    "exprs_processed = read_gct(\"../../data/v3/roche_annotated_cpm.gct\")"
   ]
  },
  {
   "cell_type": "code",
   "execution_count": 5,
   "metadata": {
    "collapsed": false
   },
   "outputs": [
    {
     "data": {
      "text/plain": [
       "((1641, 65), (52576, 1641), (22211, 1641), (52576, 5))"
      ]
     },
     "execution_count": 5,
     "metadata": {},
     "output_type": "execute_result"
    }
   ],
   "source": [
    "pdata.shape, exprs_unprocessed.shape, exprs_processed.shape, fdata_unprocessed.shape"
   ]
  },
  {
   "cell_type": "markdown",
   "metadata": {},
   "source": [
    "## Process data"
   ]
  },
  {
   "cell_type": "code",
   "execution_count": 6,
   "metadata": {
    "collapsed": false
   },
   "outputs": [],
   "source": [
    "fdata_unprocessed.set_index(fdata_unprocessed.GeneID.apply(str), inplace=True)"
   ]
  },
  {
   "cell_type": "code",
   "execution_count": 7,
   "metadata": {
    "collapsed": true
   },
   "outputs": [],
   "source": [
    "target = pdata.UDISCV.apply(sanitze_name).as_matrix()"
   ]
  },
  {
   "cell_type": "markdown",
   "metadata": {},
   "source": [
    "#### Collapse gene expression by symbol"
   ]
  },
  {
   "cell_type": "code",
   "execution_count": 8,
   "metadata": {
    "collapsed": false
   },
   "outputs": [],
   "source": [
    "exprs_unprocessed_collapsed = collapse_matrix(exprs_unprocessed, fdata_unprocessed.index, axis=0, aggregate_fun=np.sum)"
   ]
  },
  {
   "cell_type": "code",
   "execution_count": 9,
   "metadata": {
    "collapsed": false
   },
   "outputs": [],
   "source": [
    "exprs_unprocessed_collapsed = exprs_unprocessed_collapsed[exprs_unprocessed_collapsed.index != 'nan']"
   ]
  },
  {
   "cell_type": "code",
   "execution_count": 10,
   "metadata": {
    "collapsed": false
   },
   "outputs": [],
   "source": [
    "fdata_unprocessed_collapsed = fdata_unprocessed.loc[exprs_unprocessed_collapsed.index, ('GeneSymbol', 'GeneName', 'GeneType')]"
   ]
  },
  {
   "cell_type": "code",
   "execution_count": 11,
   "metadata": {
    "collapsed": false
   },
   "outputs": [],
   "source": [
    "fdata_unprocessed_collapsed = fdata_unprocessed_collapsed.drop_duplicates()"
   ]
  },
  {
   "cell_type": "code",
   "execution_count": 12,
   "metadata": {
    "collapsed": true
   },
   "outputs": [],
   "source": [
    "exprs_unprocessed_collapsed = exprs_unprocessed_collapsed.as_matrix()"
   ]
  },
  {
   "cell_type": "code",
   "execution_count": 13,
   "metadata": {
    "collapsed": false
   },
   "outputs": [
    {
     "data": {
      "text/plain": [
       "((24521, 1641), (24521, 3))"
      ]
     },
     "execution_count": 13,
     "metadata": {},
     "output_type": "execute_result"
    }
   ],
   "source": [
    "exprs_unprocessed_collapsed.shape, fdata_unprocessed_collapsed.shape"
   ]
  },
  {
   "cell_type": "markdown",
   "metadata": {},
   "source": [
    "## save to numpy objects"
   ]
  },
  {
   "cell_type": "code",
   "execution_count": 15,
   "metadata": {
    "collapsed": false
   },
   "outputs": [],
   "source": [
    "write_target(target, \"../../data_processed/v3/target.csv\")\n",
    "write_rosetta(fdata.GeneSymbol.as_matrix(), \"../../data_processed/v3/rosetta_processed.csv\")\n",
    "write_rosetta(fdata_unprocessed_collapsed.GeneSymbol.as_matrix(), \"../../data_processed/v3/rosetta_unprocessed.csv\")"
   ]
  },
  {
   "cell_type": "code",
   "execution_count": 16,
   "metadata": {
    "collapsed": true
   },
   "outputs": [],
   "source": [
    "write_expr(exprs_unprocessed_collapsed, \"../../data_processed/v3/exprs_unprocessed.npy\")\n",
    "write_expr(exprs_processed, \"../../data_processed/v3/exprs_processed.npy\")"
   ]
  },
  {
   "cell_type": "code",
   "execution_count": null,
   "metadata": {
    "collapsed": true
   },
   "outputs": [],
   "source": []
  }
 ],
 "metadata": {
  "kernelspec": {
   "display_name": "Python [Root]",
   "language": "python",
   "name": "Python [Root]"
  },
  "language_info": {
   "codemirror_mode": {
    "name": "ipython",
    "version": 3
   },
   "file_extension": ".py",
   "mimetype": "text/x-python",
   "name": "python",
   "nbconvert_exporter": "python",
   "pygments_lexer": "ipython3",
   "version": "3.5.2"
  }
 },
 "nbformat": 4,
 "nbformat_minor": 0
}
