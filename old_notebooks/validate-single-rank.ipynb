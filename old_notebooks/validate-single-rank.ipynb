{
 "cells": [
  {
   "cell_type": "code",
   "execution_count": 44,
   "metadata": {
    "collapsed": false
   },
   "outputs": [
    {
     "name": "stdout",
     "output_type": "stream",
     "text": [
      "The autoreload extension is already loaded. To reload it, use:\n",
      "  %reload_ext autoreload\n"
     ]
    }
   ],
   "source": [
    "import sys\n",
    "sys.path.append(\"..\")\n",
    "\n",
    "%load_ext autoreload\n",
    "%autoreload 1\n",
    "%aimport pygenesig.validation\n",
    "%aimport pygenesig.rank\n",
    "%aimport pygenesig.bioqc\n",
    "%aimport pygenesig.perfmeasures\n",
    "%matplotlib inline\n",
    "\n",
    "from pygenesig.validation import * \n",
    "from pygenesig.rank import * \n",
    "from pygenesig.bioqc import * \n",
    "import pygenesig.perfmeasures as pm\n",
    "import numpy as np\n",
    "import pandas as pd\n",
    "\n",
    "import seaborn as sns\n",
    "from pylab import * "
   ]
  },
  {
   "cell_type": "markdown",
   "metadata": {},
   "source": [
    "# Signature Generation and Validation on GTEx with gini-index. \n",
    "In this document, we generate and test the signatures ** on the same dataset **. The final result might therefore not be representative. This document is to demonstrate the ease-of-use of *pygenesig*. \n",
    "\n",
    "## Load a dataset\n",
    "Expression Matrix + Tissue Labels"
   ]
  },
  {
   "cell_type": "code",
   "execution_count": 45,
   "metadata": {
    "collapsed": false
   },
   "outputs": [],
   "source": [
    "expr = np.load(\"../data/gtex/exprs.npy\")\n",
    "target = np.genfromtxt(\"../data/gtex/target.csv\", delimiter=\",\", dtype=str)"
   ]
  },
  {
   "cell_type": "code",
   "execution_count": 46,
   "metadata": {
    "collapsed": false
   },
   "outputs": [
    {
     "data": {
      "text/plain": [
       "array(['Adipose Tissue', 'Adipose Tissue', 'Adipose Tissue', ..., 'Blood',\n",
       "       'Blood', 'Blood'], \n",
       "      dtype='<U15')"
      ]
     },
     "execution_count": 46,
     "metadata": {},
     "output_type": "execute_result"
    }
   ],
   "source": [
    "target"
   ]
  },
  {
   "cell_type": "markdown",
   "metadata": {},
   "source": [
    "## Make Signatures"
   ]
  },
  {
   "cell_type": "code",
   "execution_count": 47,
   "metadata": {
    "collapsed": false
   },
   "outputs": [],
   "source": [
    "sg = RankSignatureGenerator(expr, target, include_fraction=.2, not_in_fraction=.4, max_signatures_per_gene=3)"
   ]
  },
  {
   "cell_type": "code",
   "execution_count": 48,
   "metadata": {
    "collapsed": false
   },
   "outputs": [],
   "source": [
    "signatures = sg.mk_signatures()"
   ]
  },
  {
   "cell_type": "code",
   "execution_count": 49,
   "metadata": {
    "collapsed": false
   },
   "outputs": [
    {
     "data": {
      "text/plain": [
       "{'Adipose Tissue': 4,\n",
       " 'Adrenal Gland': 33,\n",
       " 'Blood': 659,\n",
       " 'Blood Vessel': 54,\n",
       " 'Brain': 1140,\n",
       " 'Breast': 3,\n",
       " 'Colon': 3,\n",
       " 'Esophagus': 3,\n",
       " 'Heart': 90,\n",
       " 'Kidney': 19,\n",
       " 'Liver': 265,\n",
       " 'Lung': 9,\n",
       " 'Muscle': 342,\n",
       " 'Nerve': 12,\n",
       " 'Ovary': 38,\n",
       " 'Pancreas': 102,\n",
       " 'Pituitary': 113,\n",
       " 'Prostate': 13,\n",
       " 'Salivary Gland': 10,\n",
       " 'Skin': 28,\n",
       " 'Small Intestine': 14,\n",
       " 'Spleen': 55,\n",
       " 'Stomach': 12,\n",
       " 'Testis': 577,\n",
       " 'Thyroid': 9,\n",
       " 'Uterus': 4,\n",
       " 'Vagina': 2}"
      ]
     },
     "execution_count": 49,
     "metadata": {},
     "output_type": "execute_result"
    }
   ],
   "source": [
    "{t: len(g) for t, g in signatures.items()}"
   ]
  },
  {
   "cell_type": "markdown",
   "metadata": {},
   "source": [
    "## Test Signatures\n",
    "(You could also load a different dataset, e.g. from a different species here)"
   ]
  },
  {
   "cell_type": "code",
   "execution_count": 33,
   "metadata": {
    "collapsed": true
   },
   "outputs": [],
   "source": [
    "st = BioQCSignatureTester(expr, target)"
   ]
  },
  {
   "cell_type": "code",
   "execution_count": 34,
   "metadata": {
    "collapsed": false
   },
   "outputs": [],
   "source": [
    "actual, predicted = st.test_signatures(signatures)"
   ]
  },
  {
   "cell_type": "code",
   "execution_count": 35,
   "metadata": {
    "collapsed": true
   },
   "outputs": [],
   "source": [
    "confmat = st.confusion_matrix(signatures, actual, predicted)"
   ]
  },
  {
   "cell_type": "code",
   "execution_count": 36,
   "metadata": {
    "collapsed": false
   },
   "outputs": [],
   "source": [
    "sig_labels = st.sort_signatures(signatures)"
   ]
  },
  {
   "cell_type": "code",
   "execution_count": 37,
   "metadata": {
    "collapsed": false
   },
   "outputs": [
    {
     "data": {
      "text/plain": [
       "<matplotlib.axes._subplots.AxesSubplot at 0x7fff77029a58>"
      ]
     },
     "execution_count": 37,
     "metadata": {},
     "output_type": "execute_result"
    },
    {
     "data": {
      "image/png": "[encoded data removed]",
      "text/plain": [
       "<matplotlib.figure.Figure at 0x7fffe939a7b8>"
      ]
     },
     "metadata": {},
     "output_type": "display_data"
    }
   ],
   "source": [
    "fig, ax = subplots(figsize=(7, 7))\n",
    "sns.heatmap(confmat, ax=ax, xticklabels=sig_labels, yticklabels=sig_labels)\n"
   ]
  },
  {
   "cell_type": "markdown",
   "metadata": {},
   "source": [
    "Binary classifications performance per signatures"
   ]
  },
  {
   "cell_type": "code",
   "execution_count": 11,
   "metadata": {
    "collapsed": false
   },
   "outputs": [
    {
     "name": "stdout",
     "output_type": "stream",
     "text": [
      "Tissue Sens Spec MCC\n",
      "Adipose Tissue 0.649913344887 0.984146955209 0.689080668795\n",
      "Adrenal Gland 1.0 1.0 1.0\n",
      "Blood 0.919765166341 0.965061143 0.746200445951\n",
      "Blood Vessel 0.882438316401 0.99821337417 0.923372479993\n",
      "Brain 1.0 0.999587118084 0.99860448652\n",
      "Breast 0.289719626168 1.0 0.533400512698\n",
      "Colon 0.565217391304 0.997310513447 0.706730730413\n",
      "Esophagus 0.52332361516 0.988391376451 0.635968464244\n",
      "Heart 1.0 0.997904597559 0.978958933014\n",
      "Kidney 1.0 1.0 1.0\n",
      "Liver 1.0 0.999881037354 0.995765381692\n",
      "Lung 0.984375 1.0 0.991854577262\n",
      "Muscle 1.0 0.995799876467 0.960641338935\n",
      "Nerve 1.0 0.998418683858 0.978506039359\n",
      "Ovary 1.0 0.999881347888 0.994825852595\n",
      "Pancreas 1.0 0.999880296864 0.997029106558\n",
      "Pituitary 1.0 1.0 1.0\n",
      "Prostate 0.905660377358 1.0 0.951097218837\n",
      "Salivary Gland 0.929824561404 0.99196976854 0.635853186811\n",
      "Skin 0.82808988764 0.999607072692 0.89907639506\n",
      "Small Intestine 0.954545454545 0.982576745289 0.584355330538\n",
      "Spleen 1.0 0.992281201758 0.781431113853\n",
      "Stomach 0.765625 0.9997599904 0.866729563994\n",
      "Testis 1.0 0.999880282533 0.997045950657\n",
      "Thyroid 0.993808049536 1.0 0.996777696134\n",
      "Uterus 0.975903614458 0.998933901919 0.936597609716\n",
      "Vagina 0.802083333333 0.964527227429 0.401176019116\n"
     ]
    }
   ],
   "source": [
    "print(\"Tissue\", \"Sens\", \"Spec\", \"MCC\")\n",
    "for i, sig in enumerate(sig_labels):\n",
    "    TP = confmat[i, i]\n",
    "    FN = np.sum(confmat[i, :]) - TP\n",
    "    FP = np.sum(confmat[:, i]) - TP\n",
    "    TN = np.sum(confmat) - TP - FN - FP\n",
    "    m = (TP, FN, FP, TN)\n",
    "    print(sig, pm.sens(*m), pm.spec(*m), pm.mcc(*m))"
   ]
  },
  {
   "cell_type": "code",
   "execution_count": null,
   "metadata": {
    "collapsed": true
   },
   "outputs": [],
   "source": []
  }
 ],
 "metadata": {
  "kernelspec": {
   "display_name": "Python 3",
   "language": "python",
   "name": "python3"
  },
  "language_info": {
   "codemirror_mode": {
    "name": "ipython",
    "version": 3
   },
   "file_extension": ".py",
   "mimetype": "text/x-python",
   "name": "python",
   "nbconvert_exporter": "python",
   "pygments_lexer": "ipython3",
   "version": "3.5.1"
  }
 },
 "nbformat": 4,
 "nbformat_minor": 0
}
