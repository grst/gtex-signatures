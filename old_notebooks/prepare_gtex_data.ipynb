{
 "cells": [
  {
   "cell_type": "code",
   "execution_count": 3,
   "metadata": {
    "collapsed": false
   },
   "outputs": [
    {
     "name": "stdout",
     "output_type": "stream",
     "text": [
      "The autoreload extension is already loaded. To reload it, use:\n",
      "  %reload_ext autoreload\n"
     ]
    }
   ],
   "source": [
    "import sys\n",
    "sys.path.append(\"..\")\n",
    "\n",
    "%load_ext autoreload\n",
    "%autoreload 1\n",
    "%aimport pygenesig\n",
    "%matplotlib inline\n",
    "\n",
    "import numpy as np\n",
    "import pandas as pd\n",
    "from collections import OrderedDict\n",
    "import dask.dataframe as dd\n"
   ]
  },
  {
   "cell_type": "markdown",
   "metadata": {},
   "source": [
    "# Preprocess GTEx data\n",
    "For the crossvalidation we need a\n",
    "* matrix of gene expression data\n",
    "* list of target classes (signatures) \n",
    "\n",
    "Here, we extract the relevant information from the gtex `.gct` and annotation files. "
   ]
  },
  {
   "cell_type": "code",
   "execution_count": 2,
   "metadata": {
    "collapsed": false
   },
   "outputs": [
    {
     "name": "stdout",
     "output_type": "stream",
     "text": [
      "covariates.csv\r\n",
      "exprs_counts.npy\r\n",
      "exprs.npy\r\n",
      "gene_symbols.csv\r\n",
      "GTEx_Analysis_v6_RNA-seq_RNA-SeQCv1.1.8_gene_reads.gct\r\n",
      "GTEx_Analysis_v6_RNA-seq_RNA-SeQCv1.1.8_gene_rpkm.gct\r\n",
      "GTEx-UDISDataSetID5681-sampleAnnotation.txt\r\n",
      "sigmat.all.gini\r\n",
      "sigmat.rank1.gini\r\n",
      "target.csv\r\n",
      "v6_UDIS.txt\r\n"
     ]
    }
   ],
   "source": [
    "!ls ../data/gtex"
   ]
  },
  {
   "cell_type": "code",
   "execution_count": 3,
   "metadata": {
    "collapsed": false
   },
   "outputs": [],
   "source": [
    "annotation = pd.read_csv(\"../data/gtex/GTEx-UDISDataSetID5681-sampleAnnotation.txt\", sep=\"\\t\", index_col=0)\n",
    "tissue = pd.read_csv(\"../data/gtex/v6_UDIS.txt\", sep=\"\\t\", index_col=0)"
   ]
  },
  {
   "cell_type": "code",
   "execution_count": 4,
   "metadata": {
    "collapsed": false
   },
   "outputs": [],
   "source": [
    "gct_head_rpkm = !head -n3 ../data/gtex/GTEx_Analysis_v6_RNA-seq_RNA-SeQCv1.1.8_gene_rpkm.gct\n",
    "gct_head_reads = !head -n3 ../data/gtex/GTEx_Analysis_v6_RNA-seq_RNA-SeQCv1.1.8_gene_reads.gct\n",
    "assert gct_head_rpkm == gct_head_reads"
   ]
  },
  {
   "cell_type": "code",
   "execution_count": 5,
   "metadata": {
    "collapsed": false
   },
   "outputs": [],
   "source": [
    "col1_rpkm = !cut -f1 ../data/gtex/GTEx_Analysis_v6_RNA-seq_RNA-SeQCv1.1.8_gene_rpkm.gct\n",
    "col1_reads = !cut -f1 ../data/gtex/GTEx_Analysis_v6_RNA-seq_RNA-SeQCv1.1.8_gene_reads.gct\n",
    "assert col1_rpkm == col1_reads"
   ]
  },
  {
   "cell_type": "code",
   "execution_count": 6,
   "metadata": {
    "collapsed": false
   },
   "outputs": [],
   "source": [
    "gct = pd.read_csv(\"../data/gtex/GTEx_Analysis_v6_RNA-seq_RNA-SeQCv1.1.8_gene_rpkm.gct\", sep=\"\\t\", skiprows=2, index_col=0)"
   ]
  },
  {
   "cell_type": "code",
   "execution_count": 7,
   "metadata": {
    "collapsed": false
   },
   "outputs": [],
   "source": [
    "genenames = gct.Description\n",
    "gct = gct.iloc[:, 1:]"
   ]
  },
  {
   "cell_type": "code",
   "execution_count": 8,
   "metadata": {
    "collapsed": false
   },
   "outputs": [],
   "source": [
    "genenames = genenames.apply(lambda x: x.split(\".\")[0])"
   ]
  },
  {
   "cell_type": "code",
   "execution_count": 9,
   "metadata": {
    "collapsed": false
   },
   "outputs": [],
   "source": [
    "assert len(gct.index) == len(genenames)\n",
    "ensemble2hgnc = OrderedDict(\n",
    "    (ens, hgnc.split(\".\")[0]) for (ens, hgnc) in zip(gct.index, genenames)\n",
    ")\n",
    "assert list(ensemble2hgnc.keys()) == list(gct.index)"
   ]
  },
  {
   "cell_type": "code",
   "execution_count": 10,
   "metadata": {
    "collapsed": false
   },
   "outputs": [],
   "source": [
    "col_vars = annotation.join(tissue, how=\"inner\")"
   ]
  },
  {
   "cell_type": "code",
   "execution_count": 11,
   "metadata": {
    "collapsed": false
   },
   "outputs": [
    {
     "data": {
      "text/plain": [
       "SMTS\n",
       "Adipose Tissue      655\n",
       "Adrenal Gland       161\n",
       "Bladder              13\n",
       "Blood              1965\n",
       "Blood Vessel        831\n",
       "Bone Marrow         127\n",
       "Brain              1632\n",
       "Breast              222\n",
       "Cervix Uteri         11\n",
       "Colon               387\n",
       "Esophagus           814\n",
       "Fallopian Tube        7\n",
       "Heart               555\n",
       "Kidney               38\n",
       "Liver               143\n",
       "Lung                497\n",
       "Muscle              566\n",
       "Nerve               390\n",
       "Ovary               112\n",
       "Pancreas            204\n",
       "Pituitary           128\n",
       "Prostate            123\n",
       "Salivary Gland       71\n",
       "Skin               1046\n",
       "Small Intestine     106\n",
       "Spleen              121\n",
       "Stomach             210\n",
       "Testis              209\n",
       "Thyroid             437\n",
       "Uterus               93\n",
       "Vagina               99\n",
       "Name: Experimental readout, dtype: int64"
      ]
     },
     "execution_count": 11,
     "metadata": {},
     "output_type": "execute_result"
    }
   ],
   "source": [
    "grouped = col_vars.groupby(\"SMTS\")\n",
    "tissue_count = grouped.count().iloc[:,1]\n",
    "tissue_count"
   ]
  },
  {
   "cell_type": "code",
   "execution_count": 12,
   "metadata": {
    "collapsed": true
   },
   "outputs": [],
   "source": [
    "col_vars = col_vars[col_vars.SMTS.isin(tissue_count[tissue_count > 30].index)]"
   ]
  },
  {
   "cell_type": "code",
   "execution_count": 13,
   "metadata": {
    "collapsed": false
   },
   "outputs": [
    {
     "data": {
      "text/plain": [
       "((11942, 32), (56318, 8555))"
      ]
     },
     "execution_count": 13,
     "metadata": {},
     "output_type": "execute_result"
    }
   ],
   "source": [
    "col_vars.shape, gct.shape"
   ]
  },
  {
   "cell_type": "code",
   "execution_count": 14,
   "metadata": {
    "collapsed": true
   },
   "outputs": [],
   "source": [
    "col_vars = col_vars[col_vars.index.isin(gct.columns)]"
   ]
  },
  {
   "cell_type": "code",
   "execution_count": 15,
   "metadata": {
    "collapsed": false
   },
   "outputs": [
    {
     "data": {
      "text/plain": [
       "((8525, 32), (56318, 8555))"
      ]
     },
     "execution_count": 15,
     "metadata": {},
     "output_type": "execute_result"
    }
   ],
   "source": [
    "col_vars.shape, gct.shape"
   ]
  },
  {
   "cell_type": "code",
   "execution_count": 16,
   "metadata": {
    "collapsed": false
   },
   "outputs": [],
   "source": [
    "gct = gct.loc[:, gct.columns.isin(col_vars.index)]"
   ]
  },
  {
   "cell_type": "code",
   "execution_count": 17,
   "metadata": {
    "collapsed": false
   },
   "outputs": [
    {
     "data": {
      "text/plain": [
       "((8525, 32), (56318, 8525))"
      ]
     },
     "execution_count": 17,
     "metadata": {},
     "output_type": "execute_result"
    }
   ],
   "source": [
    "col_vars.shape, gct.shape"
   ]
  },
  {
   "cell_type": "code",
   "execution_count": 18,
   "metadata": {
    "collapsed": false
   },
   "outputs": [],
   "source": [
    "genenames = genenames[gct.index]"
   ]
  },
  {
   "cell_type": "code",
   "execution_count": 25,
   "metadata": {
    "collapsed": false
   },
   "outputs": [
    {
     "data": {
      "text/plain": [
       "dtype('int64')"
      ]
     },
     "execution_count": 25,
     "metadata": {},
     "output_type": "execute_result"
    }
   ],
   "source": [
    "np.array([1,2,3]).dtype"
   ]
  },
  {
   "cell_type": "code",
   "execution_count": 24,
   "metadata": {
    "collapsed": false
   },
   "outputs": [
    {
     "ename": "TypeError",
     "evalue": "data type \"floatd64\" not understood",
     "output_type": "error",
     "traceback": [
      "\u001b[1;31m---------------------------------------------------------------------------\u001b[0m",
      "\u001b[1;31mTypeError\u001b[0m                                 Traceback (most recent call last)",
      "\u001b[1;32m<ipython-input-24-590904167a7b>\u001b[0m in \u001b[0;36m<module>\u001b[1;34m()\u001b[0m\n\u001b[1;32m----> 1\u001b[1;33m \u001b[0mgct\u001b[0m\u001b[1;33m.\u001b[0m\u001b[0mas_matrix\u001b[0m\u001b[1;33m(\u001b[0m\u001b[1;33m)\u001b[0m\u001b[1;33m.\u001b[0m\u001b[0mdtype\u001b[0m \u001b[1;33m==\u001b[0m \u001b[1;34m'floatd64'\u001b[0m\u001b[1;33m\u001b[0m\u001b[0m\n\u001b[0m",
      "\u001b[1;31mTypeError\u001b[0m: data type \"floatd64\" not understood"
     ]
    }
   ],
   "source": [
    "gct.as_matrix().dtype == 'float64'"
   ]
  },
  {
   "cell_type": "markdown",
   "metadata": {},
   "source": [
    "## Store results"
   ]
  },
  {
   "cell_type": "code",
   "execution_count": 47,
   "metadata": {
    "collapsed": false
   },
   "outputs": [],
   "source": [
    "exprs = gct.as_matrix()\n",
    "np.save(\"../data/gtex/exprs.npy\", exprs)"
   ]
  },
  {
   "cell_type": "markdown",
   "metadata": {},
   "source": [
    "**make sure target is in the same order as exprs columns**"
   ]
  },
  {
   "cell_type": "code",
   "execution_count": 16,
   "metadata": {
    "collapsed": false
   },
   "outputs": [],
   "source": [
    "assert np.all(gct.columns == col_vars.loc[gct.columns].SMTS.index), \"order of exprs and target are not identical\"\n",
    "assert sum(col_vars.loc[gct.columns][\"SMTS\"].isnull()) == 0, \"tissue annotation contains NaN's\""
   ]
  },
  {
   "cell_type": "code",
   "execution_count": 17,
   "metadata": {
    "collapsed": false
   },
   "outputs": [],
   "source": [
    "target = np.array([str(x) for x in col_vars.loc[gct.columns].SMTS])\n",
    "np.savetxt(\"../data/gtex/target.csv\", target, delimiter=\",\", fmt=\"%s\")"
   ]
  },
  {
   "cell_type": "code",
   "execution_count": 18,
   "metadata": {
    "collapsed": false
   },
   "outputs": [
    {
     "data": {
      "text/plain": [
       "array(['Adipose Tissue', 'Adrenal Gland', 'Blood', 'Blood Vessel', 'Brain',\n",
       "       'Breast', 'Colon', 'Esophagus', 'Heart', 'Kidney', 'Liver', 'Lung',\n",
       "       'Muscle', 'Nerve', 'Ovary', 'Pancreas', 'Pituitary', 'Prostate',\n",
       "       'Salivary Gland', 'Skin', 'Small Intestine', 'Spleen', 'Stomach',\n",
       "       'Testis', 'Thyroid', 'Uterus', 'Vagina'], \n",
       "      dtype='<U15')"
      ]
     },
     "execution_count": 18,
     "metadata": {},
     "output_type": "execute_result"
    }
   ],
   "source": [
    "np.unique(target)"
   ]
  },
  {
   "cell_type": "code",
   "execution_count": 40,
   "metadata": {
    "collapsed": false
   },
   "outputs": [],
   "source": [
    "covariates = col_vars.loc[gct.columns, (\"SMTS\", \"Gender\", \"RIN\")]\n",
    "covariates.to_csv(\"../data/gtex/covariates.csv\")"
   ]
  },
  {
   "cell_type": "code",
   "execution_count": 41,
   "metadata": {
    "collapsed": true
   },
   "outputs": [],
   "source": [
    "genenames.to_csv(\"../data/gtex/gene_symbols.csv\")"
   ]
  },
  {
   "cell_type": "code",
   "execution_count": null,
   "metadata": {
    "collapsed": true
   },
   "outputs": [],
   "source": []
  }
 ],
 "metadata": {
  "kernelspec": {
   "display_name": "Python 3",
   "language": "python",
   "name": "python3"
  },
  "language_info": {
   "codemirror_mode": {
    "name": "ipython",
    "version": 3
   },
   "file_extension": ".py",
   "mimetype": "text/x-python",
   "name": "python",
   "nbconvert_exporter": "python",
   "pygments_lexer": "ipython3",
   "version": "3.5.1"
  }
 },
 "nbformat": 4,
 "nbformat_minor": 0
}
